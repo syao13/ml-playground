{
 "cells": [
  {
   "cell_type": "markdown",
   "id": "f28b1165-e96b-4f8a-8891-f5c7fe0e3018",
   "metadata": {},
   "source": [
    "# Long Short Term Memory Model with Lightning\n",
    "\n",
    "Build a simeple LSTM model from scratch and use pytorch lightning. Inspired by Statquest."
   ]
  },
  {
   "cell_type": "code",
   "execution_count": 1,
   "id": "c67f76c8-bd5b-40ae-96cc-cc49cbd3c1f7",
   "metadata": {
    "scrolled": true
   },
   "outputs": [],
   "source": [
    "# ! pip install tensorboard"
   ]
  },
  {
   "cell_type": "code",
   "execution_count": 2,
   "id": "a51d6b2f-7bec-45c6-a73f-30680be34bf9",
   "metadata": {},
   "outputs": [],
   "source": [
    "import torch\n",
    "import torch.nn as nn\n",
    "import torch.nn.functional as F\n",
    "from torch.utils.data import TensorDataset, DataLoader\n",
    "\n",
    "from optim import Adam\n",
    "import lightning as L\n",
    "from lightning.pytorch.loggers import TensorBoardLogger"
   ]
  },
  {
   "cell_type": "markdown",
   "id": "cf5481e4-0076-4249-8661-12da0991300e",
   "metadata": {},
   "source": [
    "## From scratch"
   ]
  },
  {
   "cell_type": "code",
   "execution_count": 48,
   "id": "32b23fc0-bef2-41b6-a689-46e6395dc6a0",
   "metadata": {},
   "outputs": [],
   "source": [
    "class LSTMbyHand(L.LightningModule):\n",
    "    def __init__(self):\n",
    "        super().__init__()\n",
    "        \n",
    "        L.seed_everything(seed=42)\n",
    "        \n",
    "        mean = torch.tensor(0.0)\n",
    "        std = torch.tensor(1.0)\n",
    "\n",
    "        self.wlr1 = nn.Parameter(torch.normal(mean=mean, std=std), requires_grad=True)\n",
    "        self.wlr2 = nn.Parameter(torch.normal(mean=mean, std=std), requires_grad=True)\n",
    "        self.blr1 = nn.Parameter(torch.tensor(0.), requires_grad=True)\n",
    "\n",
    "        self.wpr1 = nn.Parameter(torch.normal(mean=mean, std=std), requires_grad=True)\n",
    "        self.wpr2 = nn.Parameter(torch.normal(mean=mean, std=std), requires_grad=True)\n",
    "        self.bpr1 = nn.Parameter(torch.tensor(0.), requires_grad=True)\n",
    "\n",
    "        self.wp1 = nn.Parameter(torch.normal(mean=mean, std=std), requires_grad=True)\n",
    "        self.wp2 = nn.Parameter(torch.normal(mean=mean, std=std), requires_grad=True)\n",
    "        self.bp1 = nn.Parameter(torch.tensor(0.), requires_grad=True)\n",
    "\n",
    "        self.wo1 = nn.Parameter(torch.normal(mean=mean, std=std), requires_grad=True)\n",
    "        self.wo2 = nn.Parameter(torch.normal(mean=mean, std=std), requires_grad=True)\n",
    "        self.bo1 = nn.Parameter(torch.tensor(0.), requires_grad=True)\n",
    "        \n",
    "        \n",
    "    def lstm_unit(self, input_value, long_memory, short_memory):\n",
    "        long_remember_pct = torch.sigmoid(short_memory * self.wlr1 + input_value * self.wlr2 + self.blr1)\n",
    "        \n",
    "        potenital_remember_pct = torch.sigmoid(short_memory * self.wpr1 + input_value * self.wpr2 + self.bpr1)\n",
    "        potential_memory = torch.tanh(short_memory * self.wp1 + input_value * self.wp2 + self.bp1)\n",
    "        updated_long_memory = long_memory * long_remember_pct + potenital_remember_pct * potential_memory\n",
    "\n",
    "        output_pct = torch.sigmoid(short_memory * self.wo1 + input_value * self.wo2 + self.bo1)\n",
    "        updated_short_memory = torch.tanh(updated_long_memory) + output_pct\n",
    "\n",
    "        return([updated_long_memory, updated_short_memory])\n",
    "\n",
    "    def forward(self, input):\n",
    "        long_memory = 0\n",
    "        short_memory = 0\n",
    "        day1 = input[0]\n",
    "        day2 = input[1]\n",
    "        day3 = input[2]\n",
    "        day4 = input[3]\n",
    "\n",
    "        long_memory, short_memory = self.lstm_unit(day1, long_memory, short_memory)\n",
    "        long_memory, short_memory = self.lstm_unit(day2, long_memory, short_memory)\n",
    "        long_memory, short_memory = self.lstm_unit(day3, long_memory, short_memory)\n",
    "        long_memory, short_memory = self.lstm_unit(day4, long_memory, short_memory)\n",
    "\n",
    "        return short_memory\n",
    "\n",
    "    def configure_optimizers(self):\n",
    "        return Adam(self.parameters())\n",
    "\n",
    "    def training_step(self, batch, batch_idx):\n",
    "        input_i, label_i = batch\n",
    "        output_i = self.forward(input_i[0])\n",
    "        loss = (output_i - label_i)**2\n",
    "\n",
    "        self.log(\"train_loss\", loss)\n",
    "        if (label_i == 0):\n",
    "            self.log(\"out_0\", output_i)\n",
    "        else:\n",
    "            self.log(\"out_1\", output_i)\n",
    "            \n",
    "        return loss"
   ]
  },
  {
   "cell_type": "code",
   "execution_count": 49,
   "id": "b5f56fe1-3426-430a-b060-ed80b1d41b99",
   "metadata": {},
   "outputs": [
    {
     "name": "stderr",
     "output_type": "stream",
     "text": [
      "Seed set to 42\n"
     ]
    },
    {
     "name": "stdout",
     "output_type": "stream",
     "text": [
      "Random initial weight for company A tensor(0.0388) ; Observed = 0\n",
      "Random initial weight for company B tensor(0.0758) ; Observed = 1\n"
     ]
    }
   ],
   "source": [
    "model = LSTMbyHand()\n",
    "\n",
    "print(\"Random initial weight for company A\", model(torch.tensor([0., 0.5, 0.25, 1.])).detach(), \"; Observed = 0\")\n",
    "print(\"Random initial weight for company B\", model(torch.tensor([1., 0.5, 0.25, 1.])).detach(), \"; Observed = 1\")"
   ]
  },
  {
   "cell_type": "markdown",
   "id": "ed6650f3-57b1-4788-b98f-4df37c6c886f",
   "metadata": {},
   "source": [
    "### Training"
   ]
  },
  {
   "cell_type": "code",
   "execution_count": 50,
   "id": "3e3caf4d-4486-489f-b3c6-8925dca86ea0",
   "metadata": {},
   "outputs": [],
   "source": [
    "inputs = torch.tensor([[0., 0.5, 0.25, 1.], [1., 0.5, 0.25, 1.]])\n",
    "labels = torch.tensor([0., 1.])\n",
    "\n",
    "dataset = TensorDataset(inputs, labels)\n",
    "dataloader = DataLoader(dataset)"
   ]
  },
  {
   "cell_type": "code",
   "execution_count": 51,
   "id": "5f46d6a5-1266-4556-ad95-7ae389d85baa",
   "metadata": {
    "scrolled": true
   },
   "outputs": [
    {
     "name": "stderr",
     "output_type": "stream",
     "text": [
      "GPU available: False, used: False\n",
      "TPU available: False, using: 0 TPU cores\n",
      "HPU available: False, using: 0 HPUs\n",
      "\n",
      "  | Name         | Type | Params | Mode\n",
      "---------------------------------------------\n",
      "  | other params | n/a  | 12     | n/a \n",
      "---------------------------------------------\n",
      "12        Trainable params\n",
      "0         Non-trainable params\n",
      "12        Total params\n",
      "0.000     Total estimated model params size (MB)\n",
      "0         Modules in train mode\n",
      "0         Modules in eval mode\n",
      "/opt/anaconda3/envs/dl/lib/python3.10/site-packages/lightning/pytorch/trainer/connectors/data_connector.py:424: The 'train_dataloader' does not have many workers which may be a bottleneck. Consider increasing the value of the `num_workers` argument` to `num_workers=3` in the `DataLoader` to improve performance.\n",
      "/opt/anaconda3/envs/dl/lib/python3.10/site-packages/lightning/pytorch/loops/fit_loop.py:298: The number of training batches (2) is smaller than the logging interval Trainer(log_every_n_steps=50). Set a lower value for log_every_n_steps if you want to see logs for the training epoch.\n"
     ]
    },
    {
     "name": "stdout",
     "output_type": "stream",
     "text": [
      "Epoch 386:   0%|                                                                                                                                 | 0/2 [11:05<?, ?it/s, v_num=2]\n",
      "Epoch 1499: 100%|████████████████████████████████████████████████████████████████████████████████████████████████████████████████████████| 2/2 [00:00<00:00, 67.61it/s, v_num=4]"
     ]
    },
    {
     "name": "stderr",
     "output_type": "stream",
     "text": [
      "`Trainer.fit` stopped: `max_epochs=1500` reached.\n"
     ]
    },
    {
     "name": "stdout",
     "output_type": "stream",
     "text": [
      "Epoch 1499: 100%|████████████████████████████████████████████████████████████████████████████████████████████████████████████████████████| 2/2 [00:00<00:00, 48.23it/s, v_num=4]\n"
     ]
    }
   ],
   "source": [
    "trainer = L.Trainer(max_epochs=1500, logger=TensorBoardLogger(\"logs\"))\n",
    "trainer.fit(model, train_dataloaders=dataloader)"
   ]
  },
  {
   "cell_type": "code",
   "execution_count": 52,
   "id": "5fcf53ce-3304-4d38-9a84-9cff9a20f718",
   "metadata": {},
   "outputs": [
    {
     "name": "stdout",
     "output_type": "stream",
     "text": [
      "Model output for company A tensor(0.4703) ; Actual = 0\n",
      "Model output for company B tensor(0.5022) ; Actual = 1\n"
     ]
    }
   ],
   "source": [
    "print(\"Model output for company A\", model(torch.tensor([0., 0.5, 0.25, 1.])).detach(), \"; Actual = 0\")\n",
    "print(\"Model output for company B\", model(torch.tensor([1., 0.5, 0.25, 1.])).detach(), \"; Actual = 1\")"
   ]
  },
  {
   "cell_type": "markdown",
   "id": "9becfa78-df64-46d2-b6de-012b126d4757",
   "metadata": {},
   "source": [
    "## Pytorch LSTM function"
   ]
  },
  {
   "cell_type": "code",
   "execution_count": 27,
   "id": "b6a9a23f-d527-4cbd-869d-d2dc45673458",
   "metadata": {},
   "outputs": [],
   "source": [
    "class LSTMbyTorch(L.LightningModule):\n",
    "    def __init__(self):\n",
    "        super().__init__()\n",
    "\n",
    "        self.lstm = nn.LSTM(input_size=1, hidden_size=1)\n",
    "\n",
    "    def forward(self, input):\n",
    "        input_trans = input.view(len(input), 1)\n",
    "        lstm_out, temp = self.lstm(input_trans)\n",
    "        prediction = lstm_out[-1]\n",
    "        \n",
    "        return prediction\n",
    "\n",
    "    def configure_optimizers(self):\n",
    "        return Adam(self.parameters(), lr=0.1)\n",
    "\n",
    "    def training_step(self, batch, batch_idx):\n",
    "        input_i, label_i = batch\n",
    "        output_i = self.forward(input_i[0])\n",
    "        loss = (output_i - label_i)**2\n",
    "\n",
    "        self.log(\"train loss\", loss)\n",
    "        if label_i == 0:\n",
    "            self.log(\"output-0\", output_i)\n",
    "        else:\n",
    "            self.log(\"output-1\", output_i)\n",
    "        \n",
    "        return loss"
   ]
  },
  {
   "cell_type": "code",
   "execution_count": 28,
   "id": "bf5855f1-5a19-4079-a7a5-6f835ddff9c7",
   "metadata": {},
   "outputs": [
    {
     "name": "stdout",
     "output_type": "stream",
     "text": [
      "Random initial weight for company A tensor([-0.0727]) ; Observed = 0\n",
      "Random initial weight for company B tensor([-0.0726]) ; Observed = 1\n"
     ]
    }
   ],
   "source": [
    "model = LSTMbyTorch()\n",
    "\n",
    "print(\"Random initial weight for company A\", model(torch.tensor([0., 0.5, 0.25, 1.])).detach(), \"; Observed = 0\")\n",
    "print(\"Random initial weight for company B\", model(torch.tensor([1., 0.5, 0.25, 1.])).detach(), \"; Observed = 1\")"
   ]
  },
  {
   "cell_type": "code",
   "execution_count": 32,
   "id": "a4d2ba75-6a63-4fce-8b6a-63bc98c84816",
   "metadata": {},
   "outputs": [
    {
     "name": "stderr",
     "output_type": "stream",
     "text": [
      "GPU available: False, used: False\n",
      "TPU available: False, using: 0 TPU cores\n",
      "HPU available: False, using: 0 HPUs\n",
      "\n",
      "  | Name | Type | Params | Mode \n",
      "--------------------------------------\n",
      "0 | lstm | LSTM | 16     | train\n",
      "--------------------------------------\n",
      "16        Trainable params\n",
      "0         Non-trainable params\n",
      "16        Total params\n",
      "0.000     Total estimated model params size (MB)\n",
      "1         Modules in train mode\n",
      "0         Modules in eval mode\n"
     ]
    },
    {
     "name": "stdout",
     "output_type": "stream",
     "text": [
      "Epoch 299: 100%|█████████████████████████████████████████████████████████████████████████████████████████████████████████████████████████| 2/2 [00:00<00:00, 44.70it/s, v_num=1]"
     ]
    },
    {
     "name": "stderr",
     "output_type": "stream",
     "text": [
      "`Trainer.fit` stopped: `max_epochs=300` reached.\n"
     ]
    },
    {
     "name": "stdout",
     "output_type": "stream",
     "text": [
      "Epoch 299: 100%|█████████████████████████████████████████████████████████████████████████████████████████████████████████████████████████| 2/2 [00:00<00:00, 36.03it/s, v_num=1]\n"
     ]
    }
   ],
   "source": [
    "trainer = L.Trainer(max_epochs=300, log_every_n_steps=2, logger=TensorBoardLogger(\"logs\"))\n",
    "trainer.fit(model, train_dataloaders=dataloader)"
   ]
  },
  {
   "cell_type": "code",
   "execution_count": 34,
   "id": "f4a80ed1-7e6c-46f5-b064-83f2e7d5be6b",
   "metadata": {},
   "outputs": [
    {
     "name": "stdout",
     "output_type": "stream",
     "text": [
      "Model output for company A tensor([-1.9422e-06]) ; Actual = 0\n",
      "Model output for company B tensor([0.9965]) ; Actual = 1\n"
     ]
    }
   ],
   "source": [
    "print(\"Model output for company A\", model(torch.tensor([0., 0.5, 0.25, 1.])).detach(), \"; Actual = 0\")\n",
    "print(\"Model output for company B\", model(torch.tensor([1., 0.5, 0.25, 1.])).detach(), \"; Actual = 1\")"
   ]
  },
  {
   "cell_type": "markdown",
   "id": "98740292-09b7-47ca-b06b-b2ab3e8af345",
   "metadata": {},
   "source": [
    "## Notes\n",
    "\n",
    "The model build by hand is not training well, ad it trys to converge predict both samples as 0.5."
   ]
  },
  {
   "cell_type": "code",
   "execution_count": null,
   "id": "21bd6090-a2b4-48b1-b08a-3c21520e551f",
   "metadata": {},
   "outputs": [],
   "source": []
  }
 ],
 "metadata": {
  "kernelspec": {
   "display_name": "Python 3 (ipykernel)",
   "language": "python",
   "name": "python3"
  },
  "language_info": {
   "codemirror_mode": {
    "name": "ipython",
    "version": 3
   },
   "file_extension": ".py",
   "mimetype": "text/x-python",
   "name": "python",
   "nbconvert_exporter": "python",
   "pygments_lexer": "ipython3",
   "version": "3.10.14"
  }
 },
 "nbformat": 4,
 "nbformat_minor": 5
}
