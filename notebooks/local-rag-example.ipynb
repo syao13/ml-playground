{
 "cells": [
  {
   "cell_type": "markdown",
   "id": "5c08d5b4-5b93-45ab-8b9e-835a831518aa",
   "metadata": {},
   "source": [
    "# Local Rag Example\n",
    "\n",
    "I am running a minimal rag-based llm application here to test the feasibility of running a local model on an old 8G-RAM intel-chip mac laptop. "
   ]
  },
  {
   "cell_type": "code",
   "execution_count": 1,
   "id": "da0ee5e7-9c6d-48d8-b3e7-a3a2cf3007d3",
   "metadata": {},
   "outputs": [],
   "source": [
    "# ! pip install ollama\n",
    "# ! pip install langchain\n",
    "# ! pip install langchain-community"
   ]
  },
  {
   "cell_type": "code",
   "execution_count": 2,
   "id": "bdd8c94d-25c6-46d8-9a51-41d732e80ddd",
   "metadata": {},
   "outputs": [],
   "source": [
    "import os\n",
    "import ollama\n",
    "\n",
    "from langchain_community.vectorstores import Chroma\n",
    "from langchain_community.chat_models import ChatOllama\n",
    "from langchain_community.embeddings import FastEmbedEmbeddings\n",
    "from langchain.schema.output_parser import StrOutputParser\n",
    "from langchain_community.document_loaders import PyPDFLoader\n",
    "from langchain.text_splitter import RecursiveCharacterTextSplitter\n",
    "from langchain.schema.runnable import RunnablePassthrough\n",
    "from langchain.prompts import PromptTemplate\n",
    "from langchain.vectorstores.utils import filter_complex_metadata"
   ]
  },
  {
   "cell_type": "markdown",
   "id": "8fe3b1c3-ba05-4dc5-9141-c280cf527acc",
   "metadata": {},
   "source": [
    "## Build rag retriever"
   ]
  },
  {
   "cell_type": "code",
   "execution_count": 3,
   "id": "906576cb-7361-459a-b830-17e7e9d52e58",
   "metadata": {},
   "outputs": [],
   "source": [
    "text_splitter = RecursiveCharacterTextSplitter(chunk_size=1024, chunk_overlap=100)"
   ]
  },
  {
   "cell_type": "code",
   "execution_count": 13,
   "id": "b3bad0b5-939c-4f8b-84bb-4a3caac339f4",
   "metadata": {},
   "outputs": [
    {
     "name": "stderr",
     "output_type": "stream",
     "text": [
      "Fetching 5 files: 100%|████████████████████████████████████████████████████████████████████████████████████████████████████████████████████████| 5/5 [00:00<00:00, 11516.49it/s]\n"
     ]
    }
   ],
   "source": [
    "from pypdf import PdfReader\n",
    "\n",
    "pdf_file_path = os.path.join(\"./data\", \"manual.pdf\")\n",
    "docs = PyPDFLoader(file_path=pdf_file_path).load()\n",
    "chunks = text_splitter.split_documents(docs)\n",
    "chunks = filter_complex_metadata(chunks)\n",
    "\n",
    "vector_store = Chroma.from_documents(documents=chunks, embedding=FastEmbedEmbeddings())"
   ]
  },
  {
   "cell_type": "code",
   "execution_count": 14,
   "id": "759e38ba-a761-4e83-997f-7d5b0a22587f",
   "metadata": {},
   "outputs": [
    {
     "name": "stdout",
     "output_type": "stream",
     "text": [
      "Total chunks: 263\n"
     ]
    },
    {
     "data": {
      "text/plain": [
       "Document(metadata={'source': './data/manual.pdf', 'page': 0}, page_content='www.samsung.com English. 04/2024. Rev.1.1SM-A356B/DS\\nSM-A356B/DS UDSM-A356ESM-A356E/DSSM-A556B/DSSM-A556B/DS UDSM-A556ESM-A556E/DS\\nUSER GUIDE')"
      ]
     },
     "execution_count": 14,
     "metadata": {},
     "output_type": "execute_result"
    }
   ],
   "source": [
    "# Check chunks\n",
    "print(f\"Total chunks: {len(chunks)}\")\n",
    "chunks[0]"
   ]
  },
  {
   "cell_type": "code",
   "execution_count": 7,
   "id": "218d8b0c-aa27-422e-951e-399a8f135014",
   "metadata": {},
   "outputs": [],
   "source": [
    "# Construct retriever\n",
    "retriever = vector_store.as_retriever(\n",
    "            search_type=\"similarity_score_threshold\",\n",
    "            search_kwargs={\n",
    "                \"k\": 3,\n",
    "                \"score_threshold\": 0.5,\n",
    "            },\n",
    "        )"
   ]
  },
  {
   "cell_type": "code",
   "execution_count": 15,
   "id": "91063f3c-c92e-4aeb-a7a8-c64698f08b39",
   "metadata": {},
   "outputs": [
    {
     "data": {
      "text/plain": [
       "[Document(metadata={'page': 150, 'source': './data/manual.pdf'}, page_content='Appendix\\n151\\nYour device does not turn on\\nWhen the battery is completely discharged, your device will not turn on. Fully charge the \\nbattery before turning on the device.\\nThe touch screen responds slowly or improperly\\n •If you attach a screen protector or optional accessories to the touch screen, the touch screen may not function properly.\\n •If you are wearing gloves, if your hands are not clean while touching the touch screen, or if you tap the screen with sharp objects or your fingertips, the touch screen may malfunction.\\n •The touch screen may malfunction in humid conditions or when exposed to water.\\n •Restart your device to clear any temporary software problems.\\n •Ensure that your device software is updated to the latest version.\\n •If the touch screen is scratched or damaged, visit a Samsung Service Centre or an authorised service centre.\\nYour device freezes or encounters a fatal problem'),\n",
       " Document(metadata={'page': 6, 'source': './data/manual.pdf'}, page_content='•Connectivity problems and battery drain may occur in the following situations:\\n ‒If you attach metallic stickers on the antenna area of the device\\n ‒If you attach a device cover made with metallic material to the device\\n ‒If you cover the device’s antenna area with your hands or other objects while using certain features, such as calls or the mobile data connection\\n •If the air vent hole is covered by an accessory, such as a protective film or sticker, unwanted noises may occur during calls or media playback.\\n •Do not cover the light sensor area with accessories, such as stickers or a cover. Doing so may cause the sensor to malfunction.'),\n",
       " Document(metadata={'page': 147, 'source': './data/manual.pdf'}, page_content='Usage notices\\n148\\nPrecautions for device overheating\\nIf you begin to feel uncomfortable because of the device overheating, stop using the \\ndevice.\\nWhen the device heats up, the features and performance may be limited or the device \\nmay turn off to cool down. The feature is only available on supported models.\\n •If the device overheats, the screen brightness, the screen refresh rate, and the performance speed will be limited to lower the device’s temperature. Even if the battery charging indicator icon appears, charging may be slow. When charging stops because of a rise in the device’s temperature, the battery indicator icon will blink.\\n •If the device reaches a certain temperature, a warning message will appear to prevent device failure, skin irritation and damage, and battery leakage. Running apps will be closed and all calling and other features will be limited, except for emergency calls, until the device cools down.')]"
      ]
     },
     "execution_count": 15,
     "metadata": {},
     "output_type": "execute_result"
    }
   ],
   "source": [
    "# Check retriever\n",
    "question = \"what's wrong with my phone when it does not turn on\"\n",
    "context = retriever.get_relevant_documents(question)\n",
    "context"
   ]
  },
  {
   "cell_type": "markdown",
   "id": "5d2a825c-dd2b-43bc-add3-013196dd60ef",
   "metadata": {},
   "source": [
    "## Feed both question and retriever to prompt and model\n",
    "\n",
    "You will need to download [Ollama](https://ollama.com/) to host your (hopefully open-source) llm locally, and also choose a model from their [library](https://ollama.com/library). I am choosing the smallest model so I can run it on my old laptop. "
   ]
  },
  {
   "cell_type": "code",
   "execution_count": 20,
   "id": "a9b6f428-e649-41b2-83c1-5c9f7c9e8a3f",
   "metadata": {},
   "outputs": [],
   "source": [
    "model_name = \"qwen2:0.5b\"\n",
    "model = ChatOllama(model=model_name)"
   ]
  },
  {
   "cell_type": "code",
   "execution_count": 21,
   "id": "253be16f-79c1-4d7f-8da8-1d7903fc0838",
   "metadata": {},
   "outputs": [],
   "source": [
    "prompt = PromptTemplate.from_template(\n",
    "            \"\"\"\n",
    "            <s> [INST] You are an assistant for question-answering tasks. Use the following pieces of retrieved context \n",
    "            to answer the question. If you don't know the answer, just say that you don't know. Use three sentences\n",
    "             maximum and keep the answer concise. [/INST] </s> \n",
    "            [INST] Question: {question} \n",
    "            Context: {context} \n",
    "            Answer: [/INST]\n",
    "            \"\"\"\n",
    "        )"
   ]
  },
  {
   "cell_type": "code",
   "execution_count": 22,
   "id": "82f7435b-354b-40c2-9ee9-75e0c51077a1",
   "metadata": {},
   "outputs": [],
   "source": [
    "chain = ({\"context\": lambda x: retriever, \"question\": RunnablePassthrough()} | prompt | model)"
   ]
  },
  {
   "cell_type": "code",
   "execution_count": 24,
   "id": "b8697fc5-8402-4a5a-8422-12121696198f",
   "metadata": {
    "scrolled": true
   },
   "outputs": [
    {
     "data": {
      "text/plain": [
       "\"It looks like there might be some issues with your phone that are causing it to turn off or malfunction. This is due to a number of factors including overheating, touch screen issues, connectivity problems, and battery drain. To fix these issues, you can try closing apps running on the device and reducing excessive battery usage. If these steps do not work, you may need to consult with a service center for assistance. In terms of troubleshooting, it's also important to ensure that your phone is updated to the latest software version, as this can help resolve any potential issues or prevent more serious problems from occurring.\""
      ]
     },
     "execution_count": 24,
     "metadata": {},
     "output_type": "execute_result"
    }
   ],
   "source": [
    "response = chain.invoke(question)\n",
    "response.content"
   ]
  },
  {
   "cell_type": "markdown",
   "id": "7847c3c5-697e-4881-be33-8e4712c178f0",
   "metadata": {},
   "source": [
    "## And it worked!!!"
   ]
  },
  {
   "cell_type": "code",
   "execution_count": null,
   "id": "4d42286b-f1f1-49b1-b1c8-23afdf1c9f3a",
   "metadata": {},
   "outputs": [],
   "source": []
  }
 ],
 "metadata": {
  "kernelspec": {
   "display_name": "Python 3 (ipykernel)",
   "language": "python",
   "name": "python3"
  },
  "language_info": {
   "codemirror_mode": {
    "name": "ipython",
    "version": 3
   },
   "file_extension": ".py",
   "mimetype": "text/x-python",
   "name": "python",
   "nbconvert_exporter": "python",
   "pygments_lexer": "ipython3",
   "version": "3.10.14"
  }
 },
 "nbformat": 4,
 "nbformat_minor": 5
}
