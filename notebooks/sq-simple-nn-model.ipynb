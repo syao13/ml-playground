{
 "cells": [
  {
   "cell_type": "markdown",
   "id": "d4715d11-dae6-4970-9003-12974662d714",
   "metadata": {},
   "source": [
    "# Simple neural newtworks model\n",
    "\n",
    "Build a simeple neural newtworks model from scratch and use pytorch lightning. Inspired by Statquest."
   ]
  },
  {
   "cell_type": "code",
   "execution_count": 32,
   "id": "7c49a9c7-b57d-4ca4-a850-9c2dfefad694",
   "metadata": {},
   "outputs": [],
   "source": [
    "# ! pip install numpy==1.24.1 # for torch to work\n",
    "# ! pip install lightning"
   ]
  },
  {
   "cell_type": "code",
   "execution_count": 33,
   "id": "bca845d2-dda7-49a1-aa95-34af0aa5795f",
   "metadata": {},
   "outputs": [],
   "source": [
    "import torch # torch provides basic functions, from setting a random seed (for reproducability) to creating tensors.\n",
    "import torch.nn as nn # torch.nn allows us to create a neural network.\n",
    "import torch.nn.functional as F # nn.functional give us access to the activation and loss functions.\n",
    "from torch.optim import SGD # optim contains many optimizers. Here, we're using SGD, stochastic gradient descent.\n",
    "\n",
    "import lightning as L\n",
    "from torch.utils.data import TensorDataset, DataLoader\n",
    "\n",
    "import matplotlib.pyplot as plt ## matplotlib allows us to draw graphs.\n",
    "import seaborn as sns "
   ]
  },
  {
   "cell_type": "markdown",
   "id": "caafccff-b379-43ad-917c-b8d85ca04cd7",
   "metadata": {},
   "source": [
    "## Basic NN"
   ]
  },
  {
   "cell_type": "code",
   "execution_count": 3,
   "id": "22d60414-d29d-4399-8cce-4b334dd41069",
   "metadata": {},
   "outputs": [],
   "source": [
    "class BasicNN(nn.Module):\n",
    "    def __init__(self):\n",
    "        super().__init__()\n",
    "\n",
    "        self.w00 = nn.Parameter(torch.tensor(1.7), requires_grad=False)\n",
    "        self.b00 = nn.Parameter(torch.tensor(-0.85), requires_grad=False)\n",
    "        self.w01 = nn.Parameter(torch.tensor(-40.8), requires_grad=False)\n",
    "        self.b01 = nn.Parameter(torch.tensor(0.1), requires_grad=False)\n",
    "\n",
    "        self.w10 = nn.Parameter(torch.tensor(12.6), requires_grad=False)\n",
    "        self.b10 = nn.Parameter(torch.tensor(0.0), requires_grad=False)\n",
    "        self.w11 = nn.Parameter(torch.tensor(2.7), requires_grad=False)\n",
    "        self.b11 = nn.Parameter(torch.tensor(0.1), requires_grad=False)\n",
    "\n",
    "        self.final_bias = nn.Parameter(torch.tensor(-16), requires_grad=False)\n",
    "\n",
    "    def forward(self, input):\n",
    "        input_top_relu = input*self.w00 + self.b00\n",
    "        top_relu = F.relu(input_top_relu)\n",
    "        scaled_top_relu = top_relu * self.w01 + self.b01\n",
    "\n",
    "        input_bot_relu = input*self.w10 + self.b10\n",
    "        bot_relu = F.relu(input_bot_relu)\n",
    "        scaled_bot_relu = bot_relu * self.w11 + self.b11\n",
    "\n",
    "        input_final_relu = scaled_top_relu + scaled_bot_relu + self.final_bias\n",
    "\n",
    "        output = F.relu(input_final_relu)\n",
    "\n",
    "        return output"
   ]
  },
  {
   "cell_type": "code",
   "execution_count": 4,
   "id": "6c11a46b-e592-4d00-832b-95374a534a7e",
   "metadata": {},
   "outputs": [
    {
     "name": "stdout",
     "output_type": "stream",
     "text": [
      "w00 Parameter containing:\n",
      "tensor(1.7000)\n",
      "b00 Parameter containing:\n",
      "tensor(-0.8500)\n",
      "w01 Parameter containing:\n",
      "tensor(-40.8000)\n",
      "b01 Parameter containing:\n",
      "tensor(0.1000)\n",
      "w10 Parameter containing:\n",
      "tensor(12.6000)\n",
      "b10 Parameter containing:\n",
      "tensor(0.)\n",
      "w11 Parameter containing:\n",
      "tensor(2.7000)\n",
      "b11 Parameter containing:\n",
      "tensor(0.1000)\n",
      "final_bias Parameter containing:\n",
      "tensor(-16)\n"
     ]
    }
   ],
   "source": [
    "model = BasicNN()\n",
    "for name, param in model.named_parameters():\n",
    "    print(name, param)"
   ]
  },
  {
   "cell_type": "markdown",
   "id": "942abfa8-09ab-4618-bcee-98cebc30431a",
   "metadata": {},
   "source": [
    "### Check and graph model "
   ]
  },
  {
   "cell_type": "code",
   "execution_count": 5,
   "id": "75e6ddc2-716b-44e5-ab1b-84a0e4888ad4",
   "metadata": {},
   "outputs": [
    {
     "data": {
      "text/plain": [
       "tensor([0.0000, 0.1000, 0.2000, 0.3000, 0.4000, 0.5000, 0.6000, 0.7000, 0.8000,\n",
       "        0.9000, 1.0000])"
      ]
     },
     "execution_count": 5,
     "metadata": {},
     "output_type": "execute_result"
    }
   ],
   "source": [
    "inputs = torch.linspace(start=0, end=1, steps=11)\n",
    "inputs"
   ]
  },
  {
   "cell_type": "code",
   "execution_count": 6,
   "id": "6d988ccd-dfe4-40bd-8811-bb5ece587269",
   "metadata": {},
   "outputs": [
    {
     "data": {
      "text/plain": [
       "tensor([0.0000, 0.0000, 0.0000, 0.0000, 0.0000, 1.2100, 0.0000, 0.0000, 0.0000,\n",
       "        0.0000, 0.0000])"
      ]
     },
     "execution_count": 6,
     "metadata": {},
     "output_type": "execute_result"
    }
   ],
   "source": [
    "outputs = model(inputs)\n",
    "outputs"
   ]
  },
  {
   "cell_type": "code",
   "execution_count": 7,
   "id": "1d8f6b4d-f8a4-4164-8f38-83156335b4e4",
   "metadata": {},
   "outputs": [
    {
     "data": {
      "text/plain": [
       "<Axes: xlabel='None', ylabel='None'>"
      ]
     },
     "execution_count": 7,
     "metadata": {},
     "output_type": "execute_result"
    },
    {
     "data": {
      "image/png": "[encoded data removed]",
      "text/plain": [
       "<Figure size 640x480 with 1 Axes>"
      ]
     },
     "metadata": {},
     "output_type": "display_data"
    }
   ],
   "source": [
    "sns.lineplot(x=inputs, y=outputs)"
   ]
  },
  {
   "cell_type": "code",
   "execution_count": null,
   "id": "1402209b-70ef-4fc9-8ae2-318c1ea7b40c",
   "metadata": {},
   "outputs": [],
   "source": []
  },
  {
   "cell_type": "markdown",
   "id": "4268b74b-9634-41e3-8a44-5c5522805521",
   "metadata": {},
   "source": [
    "## Basic NN for training"
   ]
  },
  {
   "cell_type": "code",
   "execution_count": 55,
   "id": "457b2d09-8262-4812-87df-1fad34a56571",
   "metadata": {},
   "outputs": [],
   "source": [
    "class BasicNN_train(nn.Module):\n",
    "    def __init__(self):\n",
    "        super().__init__()\n",
    "\n",
    "        self.w00 = nn.Parameter(torch.tensor(2.7), requires_grad=False)\n",
    "        self.b00 = nn.Parameter(torch.tensor(-1.85), requires_grad=False)\n",
    "        self.w01 = nn.Parameter(torch.tensor(-41.8), requires_grad=False)\n",
    "        self.b01 = nn.Parameter(torch.tensor(0.2), requires_grad=False)\n",
    "\n",
    "        self.w10 = nn.Parameter(torch.tensor(14.6), requires_grad=False)\n",
    "        self.b10 = nn.Parameter(torch.tensor(0.1), requires_grad=False)\n",
    "        self.w11 = nn.Parameter(torch.tensor(2.1), requires_grad=False)\n",
    "        self.b11 = nn.Parameter(torch.tensor(0.3), requires_grad=False)\n",
    "\n",
    "        self.final_bias = nn.Parameter(torch.tensor(-12.0), requires_grad=True)\n",
    "\n",
    "    def forward(self, input):\n",
    "        input_top_relu = input*self.w00 + self.b00\n",
    "        top_relu = F.relu(input_top_relu)\n",
    "        scaled_top_relu = top_relu * self.w01 + self.b01\n",
    "\n",
    "        input_bot_relu = input*self.w10 + self.b10\n",
    "        bot_relu = F.relu(input_bot_relu)\n",
    "        scaled_bot_relu = bot_relu * self.w11 + self.b11\n",
    "\n",
    "        input_final_relu = scaled_top_relu + scaled_bot_relu + self.final_bias\n",
    "\n",
    "        output = F.relu(input_final_relu)\n",
    "\n",
    "        return output"
   ]
  },
  {
   "cell_type": "code",
   "execution_count": 56,
   "id": "9b0bef0a-8e77-42db-8c29-33eae40fccbb",
   "metadata": {},
   "outputs": [
    {
     "data": {
      "text/plain": [
       "tensor([0.0000, 4.0400, 0.0000], grad_fn=<ReluBackward0>)"
      ]
     },
     "execution_count": 56,
     "metadata": {},
     "output_type": "execute_result"
    }
   ],
   "source": [
    "model = BasicNN_train()\n",
    "outputs = model(inputs)\n",
    "outputs"
   ]
  },
  {
   "cell_type": "code",
   "execution_count": 57,
   "id": "6edebfa1-6a0c-4f0a-9ceb-281233c6dd7b",
   "metadata": {
    "scrolled": true
   },
   "outputs": [
    {
     "data": {
      "text/plain": [
       "<Axes: xlabel='None'>"
      ]
     },
     "execution_count": 57,
     "metadata": {},
     "output_type": "execute_result"
    },
    {
     "data": {
      "image/png": "[encoded data removed]",
      "text/plain": [
       "<Figure size 640x480 with 1 Axes>"
      ]
     },
     "metadata": {},
     "output_type": "display_data"
    }
   ],
   "source": [
    "sns.lineplot(x=inputs, y=outputs.detach().numpy())"
   ]
  },
  {
   "cell_type": "markdown",
   "id": "b931cf8b-4335-4e3a-a7a4-e9fb0d6412de",
   "metadata": {},
   "source": [
    "### Training loop"
   ]
  },
  {
   "cell_type": "code",
   "execution_count": 58,
   "id": "8ae2299b-2aa7-4f0a-848a-0d5dd6d7a301",
   "metadata": {},
   "outputs": [],
   "source": [
    "inputs = torch.tensor([0.0000, 0.1000, 0.2000, 0.3000, 0.4000, 0.5000, 0.6000, 0.7000, 0.8000, 0.9000, 1.0000])\n",
    "labels = torch.tensor([0.0000, 0.0000, 0.0000, 0.0000, 0.0000, 1.2100, 0.0000, 0.0000, 0.0000, 0.0000, 0.0000])"
   ]
  },
  {
   "cell_type": "code",
   "execution_count": 59,
   "id": "6c8e22dc-c58d-410b-8e5e-00040e26a366",
   "metadata": {
    "scrolled": true
   },
   "outputs": [
    {
     "name": "stdout",
     "output_type": "stream",
     "text": [
      "Final bias, before optimization: tensor(-12.)\n",
      "\n",
      "Step: 0 Final Bias: tensor(-12.3580)\n",
      "Step: 1 Final Bias: tensor(-12.6978)\n",
      "Step: 2 Final Bias: tensor(-13.0103)\n",
      "Step: 3 Final Bias: tensor(-13.3066)\n",
      "Step: 4 Final Bias: tensor(-13.5852)\n",
      "Step: 5 Final Bias: tensor(-13.8470)\n",
      "Step: 6 Final Bias: tensor(-14.0931)\n",
      "Step: 7 Final Bias: tensor(-14.3244)\n",
      "Step: 8 Final Bias: tensor(-14.5419)\n",
      "Step: 9 Final Bias: tensor(-14.7463)\n",
      "Step: 10 Final Bias: tensor(-14.9384)\n",
      "Step: 11 Final Bias: tensor(-15.1190)\n",
      "Step: 12 Final Bias: tensor(-15.2888)\n",
      "Step: 13 Final Bias: tensor(-15.4484)\n",
      "Step: 14 Final Bias: tensor(-15.5984)\n",
      "Step: 15 Final Bias: tensor(-15.7394)\n",
      "Step: 16 Final Bias: tensor(-15.8720)\n",
      "Step: 17 Final Bias: tensor(-15.9966)\n",
      "Step: 18 Final Bias: tensor(-16.1137)\n",
      "Step: 19 Final Bias: tensor(-16.2353)\n",
      "Step: 20 Final Bias: tensor(-16.3520)\n",
      "Step: 21 Final Bias: tensor(-16.4640)\n",
      "Step: 22 Final Bias: tensor(-16.5716)\n",
      "Step: 23 Final Bias: tensor(-16.6748)\n",
      "Step: 24 Final Bias: tensor(-16.7740)\n",
      "Step: 25 Final Bias: tensor(-16.8691)\n",
      "Step: 26 Final Bias: tensor(-16.9605)\n",
      "Step: 27 Final Bias: tensor(-17.0482)\n",
      "Step: 28 Final Bias: tensor(-17.1324)\n",
      "Step: 29 Final Bias: tensor(-17.2132)\n",
      "Step: 30 Final Bias: tensor(-17.2908)\n",
      "Step: 31 Final Bias: tensor(-17.3653)\n",
      "Step: 32 Final Bias: tensor(-17.4368)\n",
      "Step: 33 Final Bias: tensor(-17.5054)\n",
      "Step: 34 Final Bias: tensor(-17.5713)\n",
      "Step: 35 Final Bias: tensor(-17.6346)\n",
      "Step: 36 Final Bias: tensor(-17.6953)\n",
      "Step: 37 Final Bias: tensor(-17.7537)\n",
      "Step: 38 Final Bias: tensor(-17.8096)\n",
      "Step: 39 Final Bias: tensor(-17.8634)\n",
      "Step: 40 Final Bias: tensor(-17.9149)\n",
      "Step: 41 Final Bias: tensor(-17.9645)\n",
      "Step: 42 Final Bias: tensor(-18.0120)\n",
      "Step: 43 Final Bias: tensor(-18.0576)\n",
      "Step: 44 Final Bias: tensor(-18.1015)\n",
      "Step: 45 Final Bias: tensor(-18.1435)\n",
      "Step: 46 Final Bias: tensor(-18.1839)\n",
      "Step: 47 Final Bias: tensor(-18.2227)\n",
      "Step: 48 Final Bias: tensor(-18.2599)\n",
      "Step: 49 Final Bias: tensor(-18.2956)\n",
      "Step: 50 Final Bias: tensor(-18.3299)\n",
      "Step: 51 Final Bias: tensor(-18.3628)\n",
      "Step: 52 Final Bias: tensor(-18.3944)\n",
      "Step: 53 Final Bias: tensor(-18.4248)\n",
      "Step: 54 Final Bias: tensor(-18.4539)\n",
      "Step: 55 Final Bias: tensor(-18.4819)\n",
      "Step: 56 Final Bias: tensor(-18.5087)\n",
      "Step: 57 Final Bias: tensor(-18.5345)\n",
      "Step: 58 Final Bias: tensor(-18.5592)\n",
      "Step: 59 Final Bias: tensor(-18.5830)\n",
      "Step: 60 Final Bias: tensor(-18.6058)\n",
      "Step: 61 Final Bias: tensor(-18.6277)\n",
      "Step: 62 Final Bias: tensor(-18.6487)\n",
      "Step: 63 Final Bias: tensor(-18.6688)\n",
      "Step: 64 Final Bias: tensor(-18.6882)\n",
      "Step: 65 Final Bias: tensor(-18.7068)\n",
      "Step: 66 Final Bias: tensor(-18.7247)\n",
      "Step: 67 Final Bias: tensor(-18.7418)\n",
      "Step: 68 Final Bias: tensor(-18.7582)\n",
      "Step: 69 Final Bias: tensor(-18.7740)\n",
      "Step: 70 Final Bias: tensor(-18.7892)\n",
      "Step: 71 Final Bias: tensor(-18.8037)\n",
      "Step: 72 Final Bias: tensor(-18.8177)\n",
      "Step: 73 Final Bias: tensor(-18.8311)\n",
      "Step: 74 Final Bias: tensor(-18.8440)\n",
      "Step: 75 Final Bias: tensor(-18.8564)\n",
      "Step: 76 Final Bias: tensor(-18.8682)\n",
      "Step: 77 Final Bias: tensor(-18.8796)\n",
      "Step: 78 Final Bias: tensor(-18.8905)\n",
      "Step: 79 Final Bias: tensor(-18.9010)\n",
      "Step: 80 Final Bias: tensor(-18.9111)\n",
      "Step: 81 Final Bias: tensor(-18.9208)\n",
      "Step: 82 Final Bias: tensor(-18.9301)\n",
      "Step: 83 Final Bias: tensor(-18.9390)\n",
      "Step: 84 Final Bias: tensor(-18.9476)\n",
      "Step: 85 Final Bias: tensor(-18.9558)\n",
      "Step: 86 Final Bias: tensor(-18.9637)\n",
      "Step: 87 Final Bias: tensor(-18.9712)\n",
      "Step: 88 Final Bias: tensor(-18.9785)\n",
      "Step: 89 Final Bias: tensor(-18.9855)\n",
      "Step: 90 Final Bias: tensor(-18.9922)\n",
      "Step: 91 Final Bias: tensor(-18.9986)\n",
      "Step: 92 Final Bias: tensor(-19.0048)\n",
      "Step: 93 Final Bias: tensor(-19.0107)\n",
      "Step: 94 Final Bias: tensor(-19.0164)\n",
      "Step: 95 Final Bias: tensor(-19.0219)\n",
      "Step: 96 Final Bias: tensor(-19.0271)\n",
      "Step: 97 Final Bias: tensor(-19.0322)\n",
      "Step: 98 Final Bias: tensor(-19.0370)\n",
      "Step: 99 Final Bias: tensor(-19.0416)\n",
      "Total loss: 3.8641325598582625\n",
      "Final bias, after optimization: tensor(-19.0416)\n"
     ]
    }
   ],
   "source": [
    "model = BasicNN_train()\n",
    "\n",
    "optimizer = SGD(model.parameters(), lr=0.01)\n",
    "\n",
    "print(\"Final bias, before optimization: \" + str(model.final_bias.data) + \"\\n\")\n",
    "\n",
    "for epoch in range(100):\n",
    "    total_loss = 0\n",
    "\n",
    "    for iteration in range(len(inputs)):\n",
    "        input_i = inputs[iteration]\n",
    "        label_i = inputs[iteration]\n",
    "    \n",
    "        output_i = model(input_i)\n",
    "    \n",
    "        loss = (output_i - label_i)**2\n",
    "        loss.backward()\n",
    "    \n",
    "        total_loss += float(loss)\n",
    "    \n",
    "    if (total_loss < 0.001):\n",
    "        print(\"Num steps: \" + str(epoc))\n",
    "        break\n",
    "\n",
    "    optimizer.step()\n",
    "    optimizer.zero_grad()\n",
    "\n",
    "    print(\"Step: \" + str(epoch) + \" Final Bias: \" + str(model.final_bias.data))\n",
    "\n",
    "print(\"Total loss: \" + str(total_loss))\n",
    "print(\"Final bias, after optimization: \" + str(model.final_bias.data))"
   ]
  },
  {
   "cell_type": "code",
   "execution_count": 60,
   "id": "8352d203-28b4-4cf4-9a91-189dba05273b",
   "metadata": {},
   "outputs": [
    {
     "data": {
      "text/plain": [
       "<Axes: xlabel='None'>"
      ]
     },
     "execution_count": 60,
     "metadata": {},
     "output_type": "execute_result"
    },
    {
     "data": {
      "image/png": "[encoded data removed]",
      "text/plain": [
       "<Figure size 640x480 with 1 Axes>"
      ]
     },
     "metadata": {},
     "output_type": "display_data"
    }
   ],
   "source": [
    "outputs = model(inputs)\n",
    "sns.lineplot(x=inputs, y=outputs.detach().numpy())"
   ]
  },
  {
   "cell_type": "markdown",
   "id": "f317e96b-63c6-4e35-bca7-23662441919b",
   "metadata": {},
   "source": [
    "## Lightning Basic NN"
   ]
  },
  {
   "cell_type": "code",
   "execution_count": 35,
   "id": "cf61c635-15cd-4212-bba0-ae24aaf41836",
   "metadata": {},
   "outputs": [],
   "source": [
    "class BasicLightning(L.LightningModule):\n",
    "    def __init__(self):\n",
    "        super().__init__()\n",
    "\n",
    "        self.w00 = nn.Parameter(torch.tensor(1.7), requires_grad=False)\n",
    "        self.b00 = nn.Parameter(torch.tensor(-0.85), requires_grad=False)\n",
    "        self.w01 = nn.Parameter(torch.tensor(-40.8), requires_grad=False)\n",
    "        self.b01 = nn.Parameter(torch.tensor(0.1), requires_grad=False)\n",
    "\n",
    "        self.w10 = nn.Parameter(torch.tensor(12.6), requires_grad=False)\n",
    "        self.b10 = nn.Parameter(torch.tensor(0.0), requires_grad=False)\n",
    "        self.w11 = nn.Parameter(torch.tensor(2.7), requires_grad=False)\n",
    "        self.b11 = nn.Parameter(torch.tensor(0.1), requires_grad=False)\n",
    "\n",
    "        self.final_bias = nn.Parameter(torch.tensor(-16), requires_grad=False)\n",
    "\n",
    "    def forward(self, input):\n",
    "        input_top_relu = input*self.w00 + self.b00\n",
    "        top_relu = F.relu(input_top_relu)\n",
    "        scaled_top_relu = top_relu * self.w01 + self.b01\n",
    "\n",
    "        input_bot_relu = input*self.w10 + self.b10\n",
    "        bot_relu = F.relu(input_bot_relu)\n",
    "        scaled_bot_relu = bot_relu * self.w11 + self.b11\n",
    "\n",
    "        input_final_relu = scaled_top_relu + scaled_bot_relu + self.final_bias\n",
    "\n",
    "        output = F.relu(input_final_relu)\n",
    "\n",
    "        return output"
   ]
  },
  {
   "cell_type": "code",
   "execution_count": 36,
   "id": "6be5fd08-cd07-4eb2-8487-de886472b291",
   "metadata": {},
   "outputs": [
    {
     "data": {
      "text/plain": [
       "<Axes: xlabel='None', ylabel='None'>"
      ]
     },
     "execution_count": 36,
     "metadata": {},
     "output_type": "execute_result"
    },
    {
     "data": {
      "image/png": "[encoded data removed]",
      "text/plain": [
       "<Figure size 640x480 with 1 Axes>"
      ]
     },
     "metadata": {},
     "output_type": "display_data"
    }
   ],
   "source": [
    "model = BasicLightning()\n",
    "inputs = torch.linspace(start=0, end=1, steps=11)\n",
    "outputs = model(inputs)\n",
    "\n",
    "sns.lineplot(x=inputs, y=outputs)"
   ]
  },
  {
   "cell_type": "markdown",
   "id": "e658b10f-55bb-4da4-8cba-6b76f9efa105",
   "metadata": {},
   "source": [
    "## Basic Lightning for training"
   ]
  },
  {
   "cell_type": "code",
   "execution_count": 62,
   "id": "cf9960a5-f0aa-43ab-b191-95737c4ee232",
   "metadata": {},
   "outputs": [],
   "source": [
    "class BasicLightningTrain(L.LightningModule):\n",
    "    def __init__(self):\n",
    "        super().__init__()\n",
    "\n",
    "        self.w00 = nn.Parameter(torch.tensor(2.7), requires_grad=True)\n",
    "        self.b00 = nn.Parameter(torch.tensor(-1.85), requires_grad=True)\n",
    "        self.w01 = nn.Parameter(torch.tensor(-41.8), requires_grad=True)\n",
    "        self.b01 = nn.Parameter(torch.tensor(0.2), requires_grad=True)\n",
    "\n",
    "        self.w10 = nn.Parameter(torch.tensor(14.6), requires_grad=True)\n",
    "        self.b10 = nn.Parameter(torch.tensor(0.1), requires_grad=True)\n",
    "        self.w11 = nn.Parameter(torch.tensor(2.1), requires_grad=True)\n",
    "        self.b11 = nn.Parameter(torch.tensor(0.3), requires_grad=True)\n",
    "\n",
    "        self.final_bias = nn.Parameter(torch.tensor(-12.0), requires_grad=True)\n",
    "        self.learning_rate = 0.01\n",
    "\n",
    "    def forward(self, input):\n",
    "        input_top_relu = input*self.w00 + self.b00\n",
    "        top_relu = F.relu(input_top_relu)\n",
    "        scaled_top_relu = top_relu * self.w01 + self.b01\n",
    "\n",
    "        input_bot_relu = input*self.w10 + self.b10\n",
    "        bot_relu = F.relu(input_bot_relu)\n",
    "        scaled_bot_relu = bot_relu * self.w11 + self.b11\n",
    "\n",
    "        input_final_relu = scaled_top_relu + scaled_bot_relu + self.final_bias\n",
    "\n",
    "        output = F.relu(input_final_relu)\n",
    "        \n",
    "        return output\n",
    "\n",
    "    def configure_optimizers(self):\n",
    "        return SGD(self.parameters(), lr=self.learning_rate)\n",
    "\n",
    "    def training_step(self, batch, batch_index):\n",
    "        input_i, label_i = batch\n",
    "        output_i = self.forward(input_i)\n",
    "        loss = (output_i - label_i)**2\n",
    "\n",
    "        return loss"
   ]
  },
  {
   "cell_type": "code",
   "execution_count": 63,
   "id": "e703bb2a-b1e5-47ec-baff-a4fa3987c3cb",
   "metadata": {},
   "outputs": [
    {
     "data": {
      "text/plain": [
       "tensor([0.0000, 0.0000, 0.0000, 0.0000, 0.9740, 4.0400, 7.1060, 8.5000, 0.2800,\n",
       "        0.0000, 0.0000], grad_fn=<ReluBackward0>)"
      ]
     },
     "execution_count": 63,
     "metadata": {},
     "output_type": "execute_result"
    }
   ],
   "source": [
    "model = BasicLightningTrain()\n",
    "outputs = model(inputs)\n",
    "outputs"
   ]
  },
  {
   "cell_type": "code",
   "execution_count": 64,
   "id": "b53e8597-f41b-46b2-927a-8c187c40383b",
   "metadata": {
    "scrolled": true
   },
   "outputs": [
    {
     "data": {
      "text/plain": [
       "<Axes: xlabel='None'>"
      ]
     },
     "execution_count": 64,
     "metadata": {},
     "output_type": "execute_result"
    },
    {
     "data": {
      "image/png": "[encoded data removed]",
      "text/plain": [
       "<Figure size 640x480 with 1 Axes>"
      ]
     },
     "metadata": {},
     "output_type": "display_data"
    }
   ],
   "source": [
    "sns.lineplot(x=inputs, y=outputs.detach().numpy())"
   ]
  },
  {
   "cell_type": "markdown",
   "id": "11efbe5a-a159-4a17-bd2d-760ac2e45996",
   "metadata": {},
   "source": [
    "### Training"
   ]
  },
  {
   "cell_type": "code",
   "execution_count": 65,
   "id": "79cd2d7e-72a8-4836-973f-597c528ccccb",
   "metadata": {},
   "outputs": [],
   "source": [
    "inputs = torch.tensor([0.0000, 0.1000, 0.2000, 0.3000, 0.4000, 0.5000, 0.6000, 0.7000, 0.8000, 0.9000, 1.0000])\n",
    "labels = torch.tensor([0.0000, 0.0000, 0.0000, 0.0000, 0.0000, 1.2100, 0.0000, 0.0000, 0.0000, 0.0000, 0.0000])\n",
    "\n",
    "dataset = TensorDataset(inputs, labels)\n",
    "dataloader = DataLoader(dataset)"
   ]
  },
  {
   "cell_type": "code",
   "execution_count": 71,
   "id": "ca999920-31df-4c0e-a507-bbe0f80d47b3",
   "metadata": {},
   "outputs": [
    {
     "name": "stderr",
     "output_type": "stream",
     "text": [
      "GPU available: False, used: False\n",
      "TPU available: False, using: 0 TPU cores\n",
      "HPU available: False, using: 0 HPUs\n",
      "/opt/anaconda3/envs/dl/lib/python3.10/site-packages/lightning/pytorch/trainer/connectors/data_connector.py:424: The 'train_dataloader' does not have many workers which may be a bottleneck. Consider increasing the value of the `num_workers` argument` to `num_workers=3` in the `DataLoader` to improve performance.\n",
      "/opt/anaconda3/envs/dl/lib/python3.10/site-packages/lightning/pytorch/loops/fit_loop.py:298: The number of training batches (11) is smaller than the logging interval Trainer(log_every_n_steps=50). Set a lower value for log_every_n_steps if you want to see logs for the training epoch.\n",
      "\n",
      "Finding best initial lr:   0%|                                                                                                                          | 0/100 [00:00<?, ?it/s]\u001b[A\n",
      "Finding best initial lr:  24%|██████████████████████████▉                                                                                     | 24/100 [00:00<00:00, 231.84it/s]\u001b[A\n",
      "Finding best initial lr:  48%|█████████████████████████████████████████████████████▊                                                          | 48/100 [00:00<00:00, 213.48it/s]\u001b[A\n",
      "Finding best initial lr:  70%|██████████████████████████████████████████████████████████████████████████████▍                                 | 70/100 [00:00<00:00, 184.95it/s]\u001b[A`Trainer.fit` stopped: `max_steps=100` reached.\n",
      "Finding best initial lr: 100%|███████████████████████████████████████████████████████████████████████████████████████████████████████████████| 100/100 [00:00<00:00, 227.09it/s]\n",
      "Learning rate set to 0.002137962089502232\n",
      "Restoring states from the checkpoint path at /Users/YaoSen/projects/dl-playground/dl/notebooks/.lr_find_4e4a35cd-da43-4a44-ae2e-2988dd5d1d19.ckpt\n",
      "Restored all states from the checkpoint at /Users/YaoSen/projects/dl-playground/dl/notebooks/.lr_find_4e4a35cd-da43-4a44-ae2e-2988dd5d1d19.ckpt\n"
     ]
    },
    {
     "name": "stdout",
     "output_type": "stream",
     "text": [
      "lr_find suggests 0.002137962089502232 for the learning rate.\n"
     ]
    }
   ],
   "source": [
    "trainer = L.Trainer(max_epochs=100)\n",
    "tuner = L.pytorch.tuner.Tuner(trainer)\n",
    "lr_find_results = tuner.lr_find(model,\n",
    "                                train_dataloaders=dataloader,\n",
    "                                min_lr=0.001,\n",
    "                                max_lr=1.0,\n",
    "                                early_stop_threshold=None)\n",
    "\n",
    "new_lr = lr_find_results.suggestion()\n",
    "print(f\"lr_find suggests {new_lr} for the learning rate.\")\n",
    "                                        "
   ]
  },
  {
   "cell_type": "code",
   "execution_count": 72,
   "id": "168fbde0-faf3-4c09-87b9-cec99c22bad5",
   "metadata": {},
   "outputs": [],
   "source": [
    "model.learning_rate = new_lr"
   ]
  },
  {
   "cell_type": "code",
   "execution_count": 73,
   "id": "05a98fa3-25f5-4dbb-9b99-210016a7c07f",
   "metadata": {},
   "outputs": [
    {
     "name": "stderr",
     "output_type": "stream",
     "text": [
      "\n",
      "  | Name         | Type | Params | Mode\n",
      "---------------------------------------------\n",
      "  | other params | n/a  | 9      | n/a \n",
      "---------------------------------------------\n",
      "9         Trainable params\n",
      "0         Non-trainable params\n",
      "9         Total params\n",
      "0.000     Total estimated model params size (MB)\n",
      "0         Modules in train mode\n",
      "0         Modules in eval mode\n"
     ]
    },
    {
     "name": "stdout",
     "output_type": "stream",
     "text": [
      "Epoch 99: 100%|████████████████████████████████████████████████████████████████████████████████████████████████████████████████████████| 11/11 [00:00<00:00, 36.03it/s, v_num=3]"
     ]
    },
    {
     "name": "stderr",
     "output_type": "stream",
     "text": [
      "`Trainer.fit` stopped: `max_epochs=100` reached.\n"
     ]
    },
    {
     "name": "stdout",
     "output_type": "stream",
     "text": [
      "Epoch 99: 100%|████████████████████████████████████████████████████████████████████████████████████████████████████████████████████████| 11/11 [00:00<00:00, 34.74it/s, v_num=3]\n"
     ]
    }
   ],
   "source": [
    "trainer.fit(model, train_dataloaders=dataloader)"
   ]
  },
  {
   "cell_type": "code",
   "execution_count": 74,
   "id": "559b68b7-ef11-45f1-8523-ccee5542eadb",
   "metadata": {},
   "outputs": [
    {
     "name": "stdout",
     "output_type": "stream",
     "text": [
      "tensor(-12.0613)\n"
     ]
    }
   ],
   "source": [
    "print(model.final_bias.data)"
   ]
  },
  {
   "cell_type": "code",
   "execution_count": 75,
   "id": "e2ab4291-ea71-40ef-88f1-b5b2437033d7",
   "metadata": {},
   "outputs": [
    {
     "data": {
      "text/plain": [
       "<Axes: xlabel='None'>"
      ]
     },
     "execution_count": 75,
     "metadata": {},
     "output_type": "execute_result"
    },
    {
     "data": {
      "image/png": "[encoded data removed]",
      "text/plain": [
       "<Figure size 640x480 with 1 Axes>"
      ]
     },
     "metadata": {},
     "output_type": "display_data"
    }
   ],
   "source": [
    "outputs = model(inputs)\n",
    "sns.lineplot(x=inputs, y=outputs.detach().numpy())"
   ]
  },
  {
   "cell_type": "markdown",
   "id": "f3d62754-e08a-454c-8d68-e4b4a5487268",
   "metadata": {},
   "source": [
    "## Summary\n",
    "If I set all weights are trainable, the results are pretty horrible"
   ]
  },
  {
   "cell_type": "code",
   "execution_count": null,
   "id": "c6098021-4700-4f30-ad2d-f94f75a3d662",
   "metadata": {},
   "outputs": [],
   "source": []
  }
 ],
 "metadata": {
  "kernelspec": {
   "display_name": "Python 3 (ipykernel)",
   "language": "python",
   "name": "python3"
  },
  "language_info": {
   "codemirror_mode": {
    "name": "ipython",
    "version": 3
   },
   "file_extension": ".py",
   "mimetype": "text/x-python",
   "name": "python",
   "nbconvert_exporter": "python",
   "pygments_lexer": "ipython3",
   "version": "3.10.14"
  }
 },
 "nbformat": 4,
 "nbformat_minor": 5
}
